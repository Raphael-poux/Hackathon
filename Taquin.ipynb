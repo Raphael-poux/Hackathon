{
 "cells": [
  {
   "cell_type": "code",
   "execution_count": 1,
   "id": "a364771d-ad96-47ed-8fb0-321d4ca46923",
   "metadata": {},
   "outputs": [
    {
     "data": {
      "text/plain": [
       "[(1, 2, 3, 4, 9, 5, 7, 8, 6),\n",
       " (1, 2, 3, 4, 8, 5, 7, 6, 9),\n",
       " (1, 2, 3, 4, 8, 5, 9, 7, 6)]"
      ]
     },
     "execution_count": 1,
     "metadata": {},
     "output_type": "execute_result"
    }
   ],
   "source": [
    "DIRECTIONS = [(0,1),(0,-1),(1,0),(-1,0)]\n",
    "\n",
    "def neighbours(node): #node=tuple avec case vide égale à 9\n",
    "    index_case_vide = node.index(9)\n",
    "    i_vide, j_vide = index_case_vide//3, index_case_vide%3\n",
    "    l=[]\n",
    "    for i in range(len(DIRECTIONS)):\n",
    "        direction = DIRECTIONS[i]\n",
    "        new_tuple_l = list(node)\n",
    "        if direction[1] == 0: #mouvement horizontal\n",
    "            if 0 <= j_vide + direction[0] <= 2:\n",
    "                new_tuple_l[index_case_vide] = node[index_case_vide+direction[0]]\n",
    "                new_tuple_l[index_case_vide+direction[0]] = 9\n",
    "                l.append(tuple(new_tuple_l))\n",
    "        elif direction[0] == 0: #mouvement vertical\n",
    "            if 0 <= i_vide + direction[1] <= 2:\n",
    "                new_tuple_l[index_case_vide] = node[index_case_vide+direction[1]*3]\n",
    "                new_tuple_l[index_case_vide+direction[1]*3] = 9\n",
    "                l.append(tuple(new_tuple_l))\n",
    "    return l\n",
    "\n",
    "neighbours((1, 2, 3, 4, 8, 5, 7, 9, 6))"
   ]
  },
  {
   "cell_type": "code",
   "execution_count": 2,
   "id": "1d188d1b-033e-4d87-8bd5-8090610e57b0",
   "metadata": {},
   "outputs": [
    {
     "data": {
      "text/plain": [
       "[(3, 8, 4, 1, 5, 7, 6, 2, 9),\n",
       " (3, 8, 4, 1, 5, 9, 6, 2, 7),\n",
       " (3, 8, 4, 1, 9, 5, 6, 2, 7),\n",
       " (3, 9, 4, 1, 8, 5, 6, 2, 7),\n",
       " (9, 3, 4, 1, 8, 5, 6, 2, 7),\n",
       " (1, 3, 4, 9, 8, 5, 6, 2, 7),\n",
       " (1, 3, 4, 8, 9, 5, 6, 2, 7),\n",
       " (1, 3, 4, 8, 2, 5, 6, 9, 7),\n",
       " (1, 3, 4, 8, 2, 5, 6, 7, 9),\n",
       " (1, 3, 4, 8, 2, 9, 6, 7, 5),\n",
       " (1, 3, 9, 8, 2, 4, 6, 7, 5),\n",
       " (1, 9, 3, 8, 2, 4, 6, 7, 5),\n",
       " (1, 2, 3, 8, 9, 4, 6, 7, 5),\n",
       " (1, 2, 3, 8, 7, 4, 6, 9, 5),\n",
       " (1, 2, 3, 8, 7, 4, 9, 6, 5),\n",
       " (1, 2, 3, 9, 7, 4, 8, 6, 5),\n",
       " (1, 2, 3, 7, 9, 4, 8, 6, 5),\n",
       " (1, 2, 3, 7, 4, 9, 8, 6, 5),\n",
       " (1, 2, 3, 7, 4, 5, 8, 6, 9),\n",
       " (1, 2, 3, 7, 4, 5, 8, 9, 6),\n",
       " (1, 2, 3, 7, 4, 5, 9, 8, 6),\n",
       " (1, 2, 3, 9, 4, 5, 7, 8, 6),\n",
       " (1, 2, 3, 4, 9, 5, 7, 8, 6),\n",
       " (1, 2, 3, 4, 5, 9, 7, 8, 6),\n",
       " (1, 2, 3, 4, 5, 6, 7, 8, 9)]"
      ]
     },
     "execution_count": 2,
     "metadata": {},
     "output_type": "execute_result"
    }
   ],
   "source": [
    "def dijkstra(starting_node):\n",
    "    queue = [starting_node]\n",
    "    path = {starting_node : [starting_node]}\n",
    "    while queue != []:\n",
    "        sommet = queue[0]\n",
    "        del queue[0]\n",
    "        voisins = neighbours(sommet)\n",
    "        chemin = path[sommet]\n",
    "        for voisin in voisins:\n",
    "            if voisin == (1,2,3,4,5,6,7,8,9):\n",
    "                return chemin + [voisin]\n",
    "            elif voisin not in path:\n",
    "                queue.append(voisin)\n",
    "                path[voisin] = chemin + [voisin]\n",
    "    return \"pas de solus\"\n",
    "\n",
    "dijkstra((3,8,4,1,5,7,6,2,9))"
   ]
  },
  {
   "cell_type": "code",
   "execution_count": 3,
   "id": "84c0e309-609a-40f6-bdbd-5ac13e113ab3",
   "metadata": {},
   "outputs": [
    {
     "name": "stdout",
     "output_type": "stream",
     "text": [
      "10.1 s ± 1.15 s per loop (mean ± std. dev. of 7 runs, 1 loop each)\n"
     ]
    }
   ],
   "source": [
    "%%timeit\n",
    "dijkstra((3,8,4,1,5,7,6,2,9))"
   ]
  },
  {
   "cell_type": "code",
   "execution_count": 4,
   "id": "0360a20e-41c2-4a5d-8308-532d9d854c0f",
   "metadata": {},
   "outputs": [
    {
     "name": "stdout",
     "output_type": "stream",
     "text": [
      "26 6\n"
     ]
    }
   ],
   "source": [
    "def cout_manhattan(noeud):\n",
    "    somme = 0\n",
    "    for i in range(len(noeud)):\n",
    "        somme += abs(noeud[i] - (i+1))\n",
    "    return somme\n",
    "\n",
    "def cout_hamming(noeud):\n",
    "    somme = 0\n",
    "    for i in range(len(noeud)):\n",
    "        if noeud[i] != i+1:\n",
    "            somme += 1\n",
    "    return somme\n",
    "\n",
    "print(cout_manhattan((7,2,9,5,3,6,1,8,4)),cout_hamming((7,2,9,5,3,6,1,8,4)))"
   ]
  },
  {
   "cell_type": "code",
   "execution_count": 28,
   "id": "57160998-9a25-417c-9d62-ec3169b74811",
   "metadata": {},
   "outputs": [],
   "source": [
    "def manhattan(starting_node):\n",
    "    queue = [starting_node]\n",
    "    path = {starting_node : [starting_node]}\n",
    "    while queue != []:\n",
    "        sommet = queue[0]\n",
    "        del queue[0]\n",
    "        voisins = neighbours(sommet)\n",
    "        chemin = path[sommet]\n",
    "        for voisin in voisins:\n",
    "            if voisin == (1,2,3,4,5,6,7,8,9):\n",
    "                return chemin + [voisin]\n",
    "            elif voisin not in path:\n",
    "                cout_voisin = cout_manhattan(voisin)\n",
    "                place = False\n",
    "                for i in range(len(queue)):\n",
    "                    if cout_voisin < cout_manhattan(queue[i]):\n",
    "                        queue = queue[:i]+[voisin]+queue[i:]\n",
    "                        place = True\n",
    "                        break\n",
    "                if place == False:\n",
    "                    queue.append(voisin)\n",
    "                path[voisin] = chemin + [voisin]\n",
    "    return \"pas de solus\"\n",
    "\n",
    "def hamming(starting_node):\n",
    "    queue = [starting_node]\n",
    "    path = {starting_node : [starting_node]}\n",
    "    compteur = 0\n",
    "    while queue != [] and compteur <= 1000:\n",
    "        compteur += 1\n",
    "        sommet = queue[0]\n",
    "        del queue[0]\n",
    "        voisins = neighbours(sommet)\n",
    "        chemin = path[sommet]\n",
    "        for voisin in voisins:\n",
    "            if voisin == (1,2,3,4,5,6,7,8,9):\n",
    "                return chemin + [voisin]\n",
    "            elif voisin not in path:\n",
    "                cout_voisin = cout_hamming(voisin)\n",
    "                place = False\n",
    "                for i in range(len(queue)):\n",
    "                    if cout_voisin < cout_hamming(queue[i]):\n",
    "                        queue = queue[:i]+[voisin]+queue[i:]\n",
    "                        place = True\n",
    "                        break\n",
    "                if place == False:\n",
    "                    queue.append(voisin)\n",
    "                path[voisin] = chemin + [voisin]\n",
    "    return \"pas de solus\""
   ]
  },
  {
   "cell_type": "code",
   "execution_count": 6,
   "id": "ff52c303-326b-4184-b66b-5d45bf4a25e6",
   "metadata": {},
   "outputs": [
    {
     "name": "stdout",
     "output_type": "stream",
     "text": [
      "137 ms ± 8.68 ms per loop (mean ± std. dev. of 7 runs, 10 loops each)\n"
     ]
    }
   ],
   "source": [
    "%%timeit\n",
    "manhattan((3,8,4,1,5,7,6,2,9))"
   ]
  },
  {
   "cell_type": "code",
   "execution_count": 8,
   "id": "13408ff7-2511-4992-a648-985f8022f008",
   "metadata": {},
   "outputs": [
    {
     "name": "stdout",
     "output_type": "stream",
     "text": [
      "21.6 ms ± 601 µs per loop (mean ± std. dev. of 7 runs, 10 loops each)\n"
     ]
    }
   ],
   "source": [
    "%%timeit\n",
    "hamming((3,8,4,1,5,7,6,2,9))"
   ]
  },
  {
   "cell_type": "code",
   "execution_count": 9,
   "id": "1164c15c-8c77-41eb-9f8c-3106ed6ef6ca",
   "metadata": {},
   "outputs": [
    {
     "data": {
      "text/plain": [
       "[(3, 8, 4, 1, 5, 7, 6, 2, 9),\n",
       " (3, 8, 4, 1, 5, 9, 6, 2, 7),\n",
       " (3, 8, 4, 1, 9, 5, 6, 2, 7),\n",
       " (3, 9, 4, 1, 8, 5, 6, 2, 7),\n",
       " (3, 4, 9, 1, 8, 5, 6, 2, 7),\n",
       " (3, 4, 5, 1, 8, 9, 6, 2, 7),\n",
       " (3, 4, 5, 1, 8, 7, 6, 2, 9),\n",
       " (3, 4, 5, 1, 8, 7, 6, 9, 2),\n",
       " (3, 4, 5, 1, 9, 7, 6, 8, 2),\n",
       " (3, 4, 5, 1, 7, 9, 6, 8, 2),\n",
       " (3, 4, 5, 1, 7, 2, 6, 8, 9),\n",
       " (3, 4, 5, 1, 7, 2, 6, 9, 8),\n",
       " (3, 4, 5, 1, 9, 2, 6, 7, 8),\n",
       " (3, 4, 5, 1, 2, 9, 6, 7, 8),\n",
       " (3, 4, 9, 1, 2, 5, 6, 7, 8),\n",
       " (3, 9, 4, 1, 2, 5, 6, 7, 8),\n",
       " (3, 2, 4, 1, 9, 5, 6, 7, 8),\n",
       " (3, 2, 4, 1, 5, 9, 6, 7, 8),\n",
       " (3, 2, 9, 1, 5, 4, 6, 7, 8),\n",
       " (3, 9, 2, 1, 5, 4, 6, 7, 8),\n",
       " (9, 3, 2, 1, 5, 4, 6, 7, 8),\n",
       " (1, 3, 2, 9, 5, 4, 6, 7, 8),\n",
       " (1, 3, 2, 5, 9, 4, 6, 7, 8),\n",
       " (1, 3, 2, 5, 4, 9, 6, 7, 8),\n",
       " (1, 3, 2, 5, 4, 8, 6, 7, 9),\n",
       " (1, 3, 2, 5, 4, 8, 6, 9, 7),\n",
       " (1, 3, 2, 5, 9, 8, 6, 4, 7),\n",
       " (1, 3, 2, 9, 5, 8, 6, 4, 7),\n",
       " (1, 3, 2, 6, 5, 8, 9, 4, 7),\n",
       " (1, 3, 2, 6, 5, 8, 4, 9, 7),\n",
       " (1, 3, 2, 6, 5, 8, 4, 7, 9),\n",
       " (1, 3, 2, 6, 5, 9, 4, 7, 8),\n",
       " (1, 3, 2, 6, 9, 5, 4, 7, 8),\n",
       " (1, 3, 2, 9, 6, 5, 4, 7, 8),\n",
       " (1, 3, 2, 4, 6, 5, 9, 7, 8),\n",
       " (1, 3, 2, 4, 6, 5, 7, 9, 8),\n",
       " (1, 3, 2, 4, 6, 5, 7, 8, 9),\n",
       " (1, 3, 2, 4, 6, 9, 7, 8, 5),\n",
       " (1, 3, 2, 4, 9, 6, 7, 8, 5),\n",
       " (1, 9, 2, 4, 3, 6, 7, 8, 5),\n",
       " (1, 2, 9, 4, 3, 6, 7, 8, 5),\n",
       " (1, 2, 6, 4, 3, 9, 7, 8, 5),\n",
       " (1, 2, 6, 4, 3, 5, 7, 8, 9),\n",
       " (1, 2, 6, 4, 3, 5, 7, 9, 8),\n",
       " (1, 2, 6, 4, 9, 5, 7, 3, 8),\n",
       " (1, 2, 6, 4, 5, 9, 7, 3, 8),\n",
       " (1, 2, 9, 4, 5, 6, 7, 3, 8),\n",
       " (1, 9, 2, 4, 5, 6, 7, 3, 8),\n",
       " (1, 5, 2, 4, 9, 6, 7, 3, 8),\n",
       " (1, 5, 2, 4, 3, 6, 7, 9, 8),\n",
       " (1, 5, 2, 4, 3, 6, 7, 8, 9),\n",
       " (1, 5, 2, 4, 3, 9, 7, 8, 6),\n",
       " (1, 5, 2, 4, 9, 3, 7, 8, 6),\n",
       " (1, 9, 2, 4, 5, 3, 7, 8, 6),\n",
       " (1, 2, 9, 4, 5, 3, 7, 8, 6),\n",
       " (1, 2, 3, 4, 5, 9, 7, 8, 6),\n",
       " (1, 2, 3, 4, 5, 6, 7, 8, 9)]"
      ]
     },
     "execution_count": 9,
     "metadata": {},
     "output_type": "execute_result"
    }
   ],
   "source": [
    "manhattan((3,8,4,1,5,7,6,2,9))"
   ]
  },
  {
   "cell_type": "code",
   "execution_count": 29,
   "id": "84900d00-69dc-46ed-9c58-0c4a983bda60",
   "metadata": {},
   "outputs": [
    {
     "name": "stdout",
     "output_type": "stream",
     "text": [
      "380 ms ± 10.8 ms per loop (mean ± std. dev. of 7 runs, 1 loop each)\n"
     ]
    }
   ],
   "source": [
    "%%timeit\n",
    "hamming((1,2,3,4,5,6,8,7,9))"
   ]
  },
  {
   "cell_type": "code",
   "execution_count": 36,
   "id": "5c5ba9a4-af27-43bc-bdcd-c5af08b6df40",
   "metadata": {},
   "outputs": [],
   "source": [
    "def hamming_pouxchiant(starting_node):\n",
    "    queue = [starting_node]\n",
    "    path = {starting_node : [starting_node]}\n",
    "    compteur = 0\n",
    "    while queue != [] and compteur <= 1000:\n",
    "        compteur += 1\n",
    "        sommet = queue[0]\n",
    "        del queue[0]\n",
    "        voisins = neighbours(sommet)\n",
    "        chemin = path[sommet]\n",
    "        for voisin in voisins:\n",
    "            if voisin == (1,2,3,4,5,6,7,8,9):\n",
    "                chemin += [voisin]\n",
    "                hint = list(chemin[1])\n",
    "                for i in range(len(hint)):\n",
    "                    if hint[i] == 9:\n",
    "                        hint[i] = 0\n",
    "                        break\n",
    "                return [[hint[0],hint[1],hint[2]],[hint[3],hint[4],hint[5]],[hint[6],hint[7],hint[8]]]\n",
    "            elif voisin not in path:\n",
    "                cout_voisin = cout_hamming(voisin)\n",
    "                place = False\n",
    "                for i in range(len(queue)):\n",
    "                    if cout_voisin < cout_hamming(queue[i]):\n",
    "                        queue = queue[:i]+[voisin]+queue[i:]\n",
    "                        place = True\n",
    "                        break\n",
    "                if place == False:\n",
    "                    queue.append(voisin)\n",
    "                path[voisin] = chemin + [voisin]\n",
    "    return \"pas de solus\""
   ]
  },
  {
   "cell_type": "code",
   "execution_count": 37,
   "id": "7e5ad687-19b1-46e1-a3d7-454b7c07888d",
   "metadata": {},
   "outputs": [
    {
     "data": {
      "text/plain": [
       "[[3, 8, 4], [1, 5, 0], [6, 2, 7]]"
      ]
     },
     "execution_count": 37,
     "metadata": {},
     "output_type": "execute_result"
    }
   ],
   "source": [
    "hamming_pouxchiant((3,8,4,1,5,7,6,2,9))"
   ]
  },
  {
   "cell_type": "code",
   "execution_count": null,
   "id": "49fa246c-905d-4a59-880f-9d26a10163e7",
   "metadata": {},
   "outputs": [],
   "source": []
  }
 ],
 "metadata": {
  "kernelspec": {
   "display_name": "Python 3 (ipykernel)",
   "language": "python",
   "name": "python3"
  },
  "language_info": {
   "codemirror_mode": {
    "name": "ipython",
    "version": 3
   },
   "file_extension": ".py",
   "mimetype": "text/x-python",
   "name": "python",
   "nbconvert_exporter": "python",
   "pygments_lexer": "ipython3",
   "version": "3.11.4"
  }
 },
 "nbformat": 4,
 "nbformat_minor": 5
}
